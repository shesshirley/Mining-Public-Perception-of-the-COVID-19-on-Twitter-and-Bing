{
 "cells": [
  {
   "cell_type": "code",
   "execution_count": null,
   "metadata": {},
   "outputs": [
    {
     "name": "stderr",
     "output_type": "stream",
     "text": [
      "[nltk_data] Downloading package stopwords to /mnt/vocwork1/ddd_v1_w_na\n",
      "[nltk_data]     X_1038985/asn661952_1/asn661953_1/work/nltk_data...\n",
      "[nltk_data]   Package stopwords is already up-to-date!\n"
     ]
    }
   ],
   "source": [
    "import pandas as pd\n",
    "from collections import Counter\n",
    "from tqdm import tqdm\n",
    "from nltk.tokenize import TweetTokenizer\n",
    "import nltk\n",
    "nltk.download('stopwords')\n",
    "import spacy\n",
    "from spacy.lang.en.stop_words import STOP_WORDS\n",
    "import re\n",
    "import gensim\n",
    "import gensim.corpora as corpora\n",
    "from pprint import pprint\n",
    "from nltk.stem import WordNetLemmatizer\n",
    "from nltk.corpus import wordnet\n",
    "import nltk\n",
    "from nltk.stem import WordNetLemmatizer\n",
    "nltk.download('wordnet')\n",
    "nltk.download('averaged_perceptron_tagger')"
   ]
  },
  {
   "cell_type": "markdown",
   "metadata": {},
   "source": [
    "## Data Cleaning"
   ]
  },
  {
   "cell_type": "code",
   "execution_count": 2,
   "metadata": {
    "collapsed": true
   },
   "outputs": [],
   "source": [
    "twitter_2020_02 = pd.read_csv(\"data/2020-02.csv\", lineterminator=\"\\n\")"
   ]
  },
  {
   "cell_type": "code",
   "execution_count": 3,
   "metadata": {},
   "outputs": [
    {
     "name": "stdout",
     "output_type": "stream",
     "text": [
      "(347454, 18)\n"
     ]
    }
   ],
   "source": [
    "print(twitter_2020_02.shape)\n",
    "file = twitter_2020_02.copy()"
   ]
  },
  {
   "cell_type": "markdown",
   "metadata": {},
   "source": [
    "### Data Selection"
   ]
  },
  {
   "cell_type": "code",
   "execution_count": 4,
   "metadata": {
    "collapsed": true
   },
   "outputs": [],
   "source": [
    "# file.head(1)"
   ]
  },
  {
   "cell_type": "code",
   "execution_count": 5,
   "metadata": {
    "collapsed": true
   },
   "outputs": [],
   "source": [
    "file[\"full_text\"] = file[\"full_text\"].astype(str).replace(\"nan\", \"\")\n",
    "file[\"full_text.1\"] = file[\"full_text.1\"].astype(str).replace(\"nan\", \"\")\n",
    "file[\"full_text.2\"] = file[\"full_text.2\"].astype(str).replace(\"nan\", \"\")\n",
    "file.loc[file['full_text']+file[\"full_text.1\"]+file[\"full_text.2\"] == '', 'full_text'] = file['text']\n",
    "file.insert(1, \"combined_text\", file[\"full_text\"] + file[\"full_text.2\"] + \" \" + file[\"full_text.1\"])\n",
    "file[\"rt_status\"] = [0] * len(file)\n",
    "file.loc[file[\"text\"].str.startswith(\"RT\"), \"rt_status\"] = 1"
   ]
  },
  {
   "cell_type": "code",
   "execution_count": 6,
   "metadata": {
    "collapsed": true
   },
   "outputs": [],
   "source": [
    "#drop duplicate rows, e.g. @RT\n",
    "file = file.drop_duplicates(subset=\"combined_text\")"
   ]
  },
  {
   "cell_type": "code",
   "execution_count": 7,
   "metadata": {
    "collapsed": true
   },
   "outputs": [],
   "source": [
    "# print(file.shape)\n",
    "# file.head(1)"
   ]
  },
  {
   "cell_type": "markdown",
   "metadata": {},
   "source": [
    "### Process text and time colum"
   ]
  },
  {
   "cell_type": "code",
   "execution_count": 8,
   "metadata": {
    "collapsed": true
   },
   "outputs": [],
   "source": [
    "time_dict = {'Jan': \"01\",\n",
    "            'Feb': \"02\",\n",
    "            'Mar': \"03\",\n",
    "            'Apr': \"04\",\n",
    "            'May': \"05\",\n",
    "            'Jun': \"06\",\n",
    "            'Jul': \"07\",\n",
    "            'Aug': \"08\",\n",
    "            'Sep': \"09\", \n",
    "            'Oct': \"10\",\n",
    "            'Nov': \"11\",\n",
    "            'Dec': \"12\"}"
   ]
  },
  {
   "cell_type": "code",
   "execution_count": 9,
   "metadata": {},
   "outputs": [
    {
     "name": "stderr",
     "output_type": "stream",
     "text": [
      "100%|██████████| 174443/174443 [00:16<00:00, 10427.22it/s]\n"
     ]
    }
   ],
   "source": [
    "time = []\n",
    "for i in tqdm(range(len(file))):\n",
    "    time_sep = file.iloc[i][\"created_at\"].split(\" \")\n",
    "    month = time_dict[time_sep[1]]\n",
    "    day = time_sep[2]\n",
    "    year = time_sep[-1]\n",
    "    time.append(f\"{month}-{day}-{year}\")"
   ]
  },
  {
   "cell_type": "code",
   "execution_count": 10,
   "metadata": {
    "collapsed": true
   },
   "outputs": [],
   "source": [
    "#copy df\n",
    "file_new = file.copy()\n",
    "\n",
    "#insert time column\n",
    "file_new.insert(2, \"time\", time)\n",
    "\n",
    "#drop useless column\n",
    "file_new = file_new.drop([\"created_at\", \"text\", \"full_text\", \"full_text.1\", \"full_text.2\", \"name\", \"screen_name\", \"id.1\", \"description\", \"country\", \"full_name\", \"place_type\"], axis=1)\n",
    "\n",
    "#rename column\n",
    "file_new = file_new.rename(columns={\"id\":\"tweet_id\"})\n",
    "\n"
   ]
  },
  {
   "cell_type": "code",
   "execution_count": 11,
   "metadata": {},
   "outputs": [
    {
     "data": {
      "text/html": [
       "<div>\n",
       "<style scoped>\n",
       "    .dataframe tbody tr th:only-of-type {\n",
       "        vertical-align: middle;\n",
       "    }\n",
       "\n",
       "    .dataframe tbody tr th {\n",
       "        vertical-align: top;\n",
       "    }\n",
       "\n",
       "    .dataframe thead th {\n",
       "        text-align: right;\n",
       "    }\n",
       "</style>\n",
       "<table border=\"1\" class=\"dataframe\">\n",
       "  <thead>\n",
       "    <tr style=\"text-align: right;\">\n",
       "      <th></th>\n",
       "      <th>tweet_id</th>\n",
       "      <th>combined_text</th>\n",
       "      <th>time</th>\n",
       "      <th>favourites_count</th>\n",
       "      <th>followers_count</th>\n",
       "      <th>friends_count</th>\n",
       "      <th>statuses_count</th>\n",
       "      <th>location</th>\n",
       "      <th>rt_status</th>\n",
       "    </tr>\n",
       "  </thead>\n",
       "  <tbody>\n",
       "    <tr>\n",
       "      <th>0</th>\n",
       "      <td>1223471115579711488</td>\n",
       "      <td>RT @FuschiaScribe: How come Baba Ramdev and a ...</td>\n",
       "      <td>02-01-2020</td>\n",
       "      <td>8420</td>\n",
       "      <td>94</td>\n",
       "      <td>518</td>\n",
       "      <td>6887</td>\n",
       "      <td>Bengaluru, India</td>\n",
       "      <td>1</td>\n",
       "    </tr>\n",
       "  </tbody>\n",
       "</table>\n",
       "</div>"
      ],
      "text/plain": [
       "              tweet_id                                      combined_text  \\\n",
       "0  1223471115579711488  RT @FuschiaScribe: How come Baba Ramdev and a ...   \n",
       "\n",
       "         time  favourites_count  followers_count  friends_count  \\\n",
       "0  02-01-2020              8420               94            518   \n",
       "\n",
       "   statuses_count          location  rt_status  \n",
       "0            6887  Bengaluru, India          1  "
      ]
     },
     "execution_count": 11,
     "metadata": {},
     "output_type": "execute_result"
    }
   ],
   "source": [
    "# file_new.head(1)"
   ]
  },
  {
   "cell_type": "markdown",
   "metadata": {},
   "source": [
    "## Text data processing"
   ]
  },
  {
   "cell_type": "code",
   "execution_count": 12,
   "metadata": {
    "collapsed": true
   },
   "outputs": [],
   "source": [
    "states_dict = {\n",
    "        'AK': 'Alaska',\n",
    "        'AL': 'Alabama',\n",
    "        'AR': 'Arkansas',\n",
    "        'AS': 'American Samoa',\n",
    "        'AZ': 'Arizona',\n",
    "        'CA': 'California',\n",
    "        'CO': 'Colorado',\n",
    "        'CT': 'Connecticut',\n",
    "        'DC': 'District of Columbia',\n",
    "        'DE': 'Delaware',\n",
    "        'FL': 'Florida',\n",
    "        'GA': 'Georgia',\n",
    "        'GU': 'Guam',\n",
    "        'HI': 'Hawaii',\n",
    "        'IA': 'Iowa',\n",
    "        'ID': 'Idaho',\n",
    "        'IL': 'Illinois',\n",
    "        'IN': 'Indiana',\n",
    "        'KS': 'Kansas',\n",
    "        'KY': 'Kentucky',\n",
    "        'LA': 'Louisiana',\n",
    "        'MA': 'Massachusetts',\n",
    "        'MD': 'Maryland',\n",
    "        'ME': 'Maine',\n",
    "        'MI': 'Michigan',\n",
    "        'MN': 'Minnesota',\n",
    "        'MO': 'Missouri',\n",
    "        'MP': 'Northern Mariana Islands',\n",
    "        'MS': 'Mississippi',\n",
    "        'MT': 'Montana',\n",
    "        'NA': 'National',\n",
    "        'NC': 'North Carolina',\n",
    "        'ND': 'North Dakota',\n",
    "        'NE': 'Nebraska',\n",
    "        'NH': 'New Hampshire',\n",
    "        'NJ': 'New Jersey',\n",
    "        'NM': 'New Mexico',\n",
    "        'NV': 'Nevada',\n",
    "        'NY': 'New York',\n",
    "        'OH': 'Ohio',\n",
    "        'OK': 'Oklahoma',\n",
    "        'OR': 'Oregon',\n",
    "        'PA': 'Pennsylvania',\n",
    "        'PR': 'Puerto Rico',\n",
    "        'RI': 'Rhode Island',\n",
    "        'SC': 'South Carolina',\n",
    "        'SD': 'South Dakota',\n",
    "        'TN': 'Tennessee',\n",
    "        'TX': 'Texas',\n",
    "        'UT': 'Utah',\n",
    "        'VA': 'Virginia',\n",
    "        'VI': 'Virgin Islands',\n",
    "        'VT': 'Vermont',\n",
    "        'WA': 'Washington',\n",
    "        'WI': 'Wisconsin',\n",
    "        'WV': 'West Virginia',\n",
    "        'WY': 'Wyoming'\n",
    "}"
   ]
  },
  {
   "cell_type": "code",
   "execution_count": 13,
   "metadata": {
    "collapsed": true
   },
   "outputs": [],
   "source": [
    "states = [ 'AK', 'AL', 'AR', 'AZ', 'CA', 'CO', 'CT', 'DC', 'DE', 'FL', 'GA',\n",
    "           'HI', 'IA', 'ID', 'IL', 'IN', 'KS', 'KY', 'LA', 'MA', 'MD', 'ME',\n",
    "           'MI', 'MN', 'MO', 'MS', 'MT', 'NC', 'ND', 'NE', 'NH', 'NJ', 'NM',\n",
    "           'NV', 'NY', 'OH', 'OK', 'OR', 'PA', 'RI', 'SC', 'SD', 'TN', 'TX',\n",
    "           'UT', 'VA', 'VT', 'WA', 'WI', 'WV', 'WY',\n",
    "         'Alabama', 'Alaska', 'Arizona', 'Arkansas', 'California', 'Colorado', \n",
    "          'Connecticut', 'Washington DC', 'Delaware', 'Florida', 'Georgia', 'Hawaii', \n",
    "          'Idaho', 'Illinois', 'Indiana', 'Iowa', 'Kansas', 'Kentucky', 'Louisiana', 'Maine', \n",
    "          'Maryland', 'Massachusetts', 'Michigan', 'Minnesota', 'Mississippi', 'Missouri', 'Montana', \n",
    "          'Nebraska', 'Nevada', 'New Hampshire', 'New Jersey', 'New Mexico', 'New York', 'North Carolina', \n",
    "          'North Dakota', 'Ohio', 'Oklahoma', 'Oregon', 'Pennsylvania', 'Rhode Island', 'South Carolina', \n",
    "          'South Dakota', 'Tennessee', 'Texas', 'Utah', 'Vermont', 'Virginia', 'Washington', 'West Virginia', \n",
    "          'Wisconsin', 'Wyoming',  'United States', 'USA', 'usa']\n",
    "patt = '|'.join(states)\n",
    "mask = file_new[['location']].apply(lambda x : x.str.contains(patt)).any(axis=1)\n",
    "file_new = file_new[mask]"
   ]
  },
  {
   "cell_type": "code",
   "execution_count": 14,
   "metadata": {
    "collapsed": true
   },
   "outputs": [],
   "source": [
    "# print(file_new.shape)\n",
    "# file_new.head(1)"
   ]
  },
  {
   "cell_type": "code",
   "execution_count": 15,
   "metadata": {},
   "outputs": [
    {
     "name": "stderr",
     "output_type": "stream",
     "text": [
      "100%|██████████| 41707/41707 [00:03<00:00, 10553.23it/s]\n"
     ]
    }
   ],
   "source": [
    "state_list = []\n",
    "for i in tqdm(range(len(file_new))):\n",
    "    location = file_new.iloc[i][\"location\"]\n",
    "    for j in states:\n",
    "        if j in location:\n",
    "            if j in states_dict.keys():\n",
    "                state_list.append(states_dict[j])\n",
    "            elif j in states_dict.values():\n",
    "                state_list.append(j)\n",
    "            else:\n",
    "                state_list.append(\"\")\n",
    "            break"
   ]
  },
  {
   "cell_type": "code",
   "execution_count": 16,
   "metadata": {
    "collapsed": true
   },
   "outputs": [],
   "source": [
    "file_new[\"state\"] = state_list\n",
    "# print(file_new.shape)\n",
    "# file_new.head(1)"
   ]
  },
  {
   "cell_type": "markdown",
   "metadata": {},
   "source": [
    "### Topic Modeling"
   ]
  },
  {
   "cell_type": "code",
   "execution_count": 17,
   "metadata": {
    "collapsed": true
   },
   "outputs": [],
   "source": [
    "# replaces spaces in keywords with connector matcher.\n",
    "def replace_connector(keyword):\n",
    "  connector = \"[ -_]?\"\n",
    "  return connector.join(keyword.split())\n",
    "\n",
    "#Filter tweets when keywords mention both covid and vaccine(not specify vaccine name)\n",
    "covid_keywords = [\"people\", \"new\", \"case\", \"rt\", \"virus\", \"19\", \"corona\", \"covid 19\", \"covid 2019\", \"covid\", \"19 ncov\", \"2019 ncov\", \"ncov\", \"corona virus\", \"pandemic\", \"wuhan virus\", \"chinese virus\", \"china virus\", \"sars cov 2\", \"hcov 19\", \"ncov 19\"]\n",
    "covid_query = r\"\\b(\" + \"|\".join(map(replace_connector, covid_keywords)) + r\")\\b\"\n",
    "covid_reg = re.compile(covid_query, re.IGNORECASE)"
   ]
  },
  {
   "cell_type": "code",
   "execution_count": 18,
   "metadata": {
    "collapsed": true
   },
   "outputs": [],
   "source": [
    "def get_wordnet_pos(word):\n",
    "    \"\"\"Map POS tag to first character lemmatize() accepts\"\"\"\n",
    "    tag = nltk.pos_tag([word])[0][1][0].upper()\n",
    "    tag_dict = {\"J\": wordnet.ADJ,\n",
    "                \"N\": wordnet.NOUN,\n",
    "                \"V\": wordnet.VERB,\n",
    "                \"R\": wordnet.ADV}\n",
    "\n",
    "    return tag_dict.get(tag, wordnet.NOUN)"
   ]
  },
  {
   "cell_type": "code",
   "execution_count": 19,
   "metadata": {},
   "outputs": [
    {
     "name": "stderr",
     "output_type": "stream",
     "text": [
      "100%|██████████| 41707/41707 [01:58<00:00, 350.55it/s]\n"
     ]
    }
   ],
   "source": [
    "tweet_tokenizer = TweetTokenizer()\n",
    "tweet_tokens = []\n",
    "# stops = set(stopwords.words('english'))\n",
    "punctuation = \"\"\"!\"#$%&'()*+, -./:;<=>?“@[\\]^_`{|}~’”—...'\"\"\"\n",
    "lemmatizer = WordNetLemmatizer()\n",
    "for sent in tqdm(list(file_new[\"combined_text\"])):\n",
    "    word_list = []\n",
    "    for word in tweet_tokenizer.tokenize(sent):\n",
    "        # prevent the case: lemmatize(\"Cases\")==Cases\n",
    "        word = word.lower()\n",
    "        word = lemmatizer.lemmatize(word, get_wordnet_pos(word))\n",
    "        if word not in STOP_WORDS and word not in punctuation and not covid_reg.search(word) and len(word) > 1: \n",
    "            word_list.append(word)\n",
    "    tweet_tokens.append(word_list)"
   ]
  },
  {
   "cell_type": "code",
   "execution_count": 20,
   "metadata": {
    "collapsed": true
   },
   "outputs": [],
   "source": [
    "file_new[\"token_list\"] = tweet_tokens"
   ]
  },
  {
   "cell_type": "code",
   "execution_count": 21,
   "metadata": {
    "collapsed": true
   },
   "outputs": [],
   "source": [
    "# print(file_new.shape)\n",
    "# file_new.head(1)"
   ]
  },
  {
   "cell_type": "code",
   "execution_count": 24,
   "metadata": {},
   "outputs": [
    {
     "name": "stdout",
     "output_type": "stream",
     "text": [
      "(41707, 10)\n"
     ]
    },
    {
     "data": {
      "text/html": [
       "<div>\n",
       "<style scoped>\n",
       "    .dataframe tbody tr th:only-of-type {\n",
       "        vertical-align: middle;\n",
       "    }\n",
       "\n",
       "    .dataframe tbody tr th {\n",
       "        vertical-align: top;\n",
       "    }\n",
       "\n",
       "    .dataframe thead th {\n",
       "        text-align: right;\n",
       "    }\n",
       "</style>\n",
       "<table border=\"1\" class=\"dataframe\">\n",
       "  <thead>\n",
       "    <tr style=\"text-align: right;\">\n",
       "      <th></th>\n",
       "      <th>tweet_id</th>\n",
       "      <th>combined_text</th>\n",
       "      <th>time</th>\n",
       "      <th>favourites_count</th>\n",
       "      <th>followers_count</th>\n",
       "      <th>friends_count</th>\n",
       "      <th>statuses_count</th>\n",
       "      <th>rt_status</th>\n",
       "      <th>state</th>\n",
       "      <th>token_list</th>\n",
       "    </tr>\n",
       "  </thead>\n",
       "  <tbody>\n",
       "    <tr>\n",
       "      <th>2</th>\n",
       "      <td>1223471140317909004</td>\n",
       "      <td>Veteran journo canned after making ‘racist’ jo...</td>\n",
       "      <td>02-01-2020</td>\n",
       "      <td>28128</td>\n",
       "      <td>4478</td>\n",
       "      <td>4826</td>\n",
       "      <td>42564</td>\n",
       "      <td>0</td>\n",
       "      <td>Tennessee</td>\n",
       "      <td>[veteran, journo, racist, joke, https://t.co/v...</td>\n",
       "    </tr>\n",
       "  </tbody>\n",
       "</table>\n",
       "</div>"
      ],
      "text/plain": [
       "              tweet_id                                      combined_text  \\\n",
       "2  1223471140317909004  Veteran journo canned after making ‘racist’ jo...   \n",
       "\n",
       "         time  favourites_count  followers_count  friends_count  \\\n",
       "2  02-01-2020             28128             4478           4826   \n",
       "\n",
       "   statuses_count  rt_status      state  \\\n",
       "2           42564          0  Tennessee   \n",
       "\n",
       "                                          token_list  \n",
       "2  [veteran, journo, racist, joke, https://t.co/v...  "
      ]
     },
     "execution_count": 24,
     "metadata": {},
     "output_type": "execute_result"
    }
   ],
   "source": [
    "file_new = file_new.drop([\"location\"], axis=1)\n",
    "print(file_new.shape)\n",
    "file_new.head(1)"
   ]
  },
  {
   "cell_type": "code",
   "execution_count": 25,
   "metadata": {
    "collapsed": true
   },
   "outputs": [],
   "source": [
    "file_new.to_csv(\"final_data/2020-02.csv\", index=False)"
   ]
  },
  {
   "cell_type": "code",
   "execution_count": null,
   "metadata": {
    "collapsed": true
   },
   "outputs": [],
   "source": []
  }
 ],
 "metadata": {
  "kernelspec": {
   "display_name": "Python 3 [3.7]",
   "language": "python",
   "name": "python3"
  },
  "language_info": {
   "codemirror_mode": {
    "name": "ipython",
    "version": 3
   },
   "file_extension": ".py",
   "mimetype": "text/x-python",
   "name": "python",
   "nbconvert_exporter": "python",
   "pygments_lexer": "ipython3",
   "version": "3.7.5"
  }
 },
 "nbformat": 4,
 "nbformat_minor": 2
}
